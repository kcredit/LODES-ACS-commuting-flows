{
 "cells": [
  {
   "cell_type": "markdown",
   "metadata": {},
   "source": [
    "# Introduction to Python and Kepler\n",
    "### LODES Commuting Summer Project 2021\n",
    "## Getting Started\n",
    "Before anything else, you need to set Python up on your computer. The version of Python we will use is Anaconda Python - see https://www.anaconda.com/download/. Using instructions on this page, install Python (it’s free). You will want the Python 3.7 version (not 2.7). If you are offered a choice between 64-bit and 32-bit versions, unless your laptop is very old you’ll want 64-bit. The download is large (~614Mb) so it may take a while. It may also ask you if you want to install something called VS Code - you won’t need this, so I would suggest saying ‘no’.\n",
    "\n",
    "There are a number of ways to actually run Python. Here, we will use Navigator to launch the Jupyter app. This is done by first stating Navigator, and from there launching Jupyter. To start up Navigator, follow the instructions here: https://docs.anaconda.com/anaconda/navigator/getting-started/#navigator-starting-navigator. When it has started, you will see a window similar to this:"
   ]
  },
  {
   "cell_type": "markdown",
   "metadata": {},
   "source": [
    "<img src=\"image.png\">"
   ]
  },
  {
   "cell_type": "markdown",
   "metadata": {},
   "source": [
    "If the ```Jupyter Notebook``` window has a button that says __Install__ click on this - it installs some software on to your machine. Follow any instructions you get. When installed the button will say __Launch__ instead of Install. When it says Launch then click on it, to start up the ```Jupyter Notebook``` app. This actually runs Python through a web page. \n",
    "\n",
    "It should look something like this:"
   ]
  },
  {
   "cell_type": "markdown",
   "metadata": {},
   "source": [
    "<img src=\"download.png\">"
   ]
  },
  {
   "cell_type": "markdown",
   "metadata": {},
   "source": [
    "You can also open Jupyter Notebook through the Command Prompt (Windows) or Terminal (MacOS). To open the Terminal on Mac computers, click on the Spotlight icon (magnifying glass) on the top right corner of the desktop and type “Terminal”. Double-click on the “Terminal icon” and it will open."
   ]
  },
  {
   "cell_type": "markdown",
   "metadata": {},
   "source": [
    "<img src=\"Screenshot2.png\">"
   ]
  },
  {
   "cell_type": "markdown",
   "metadata": {},
   "source": [
    "In general, Python is a somewhat similar programming language to R, but is slightly more intuitive, visually attractive, and powerful (although it does not have the full range of specific statistical packages that R does). It is generally the programming language of choice for data scientists and others doing machine learning and/or working with very large datasets. The code itself runs in your computer’s command line, but the newly-developed ```Jupyter Notebooks``` run in your web browser and provide an aesthetically-pleasing and concise method for running markdown (text instructions), code, code outputs, and plots all in one location.\n",
    "\n",
    "Similar to R, Python is made up of a number of open source packages developed by users. Anaconda includes a number of very useful packages, including ```matplotlib```, ```pandas```, ```numpy```, ```geopandas```, and ```KeplerGL```. To install these packages in the command prompt, type ```conda install [PACKAGENAME]``` and hit “enter” for each package.\n",
    "\n",
    "Once these five packages have been installed properly, type “jupyter notebook” in the command prompt or terminal and hit enter (or go back to your open Jupyter Notebook directory).\n",
    "\n",
    "*Note: You can open multiple Command Prompt or Terminal windows at one time. This might be necessary, because the command prompt window that you use to open jupyter needs to stay open for the duration of the time that you are using jupyter (and cannot be used for additional commands, e.g., ```conda install```). You can minimize the command prompt window, but if you close it, the kernel will be lost and you will have to re-open the command prompt and re-start jupyter.*\n",
    "\n",
    "## Using Python\n",
    "\n",
    "Now, navigate to the folder in which you saved the data for Lab 2. Click on the file “Python Kepler + QGIS.ipynb” and it will open in a new browser tab (to open a new blank notebook, click on the “New” dropdown menu and select “Python 3” under “Notebook”).\n",
    "\n",
    "A notebook is similar to an R script in that it contains all of the code for calculating the access scores in the lab. It also has several advantages, however: 1) since it runs in the web browser, it is very easy to place online for replication, dissemination, and viewing, 2) the markdown text can be formatted and is more visually attractive (like a webpage) for easier comprehension, and 3) code is run in chunks in individual cells (see below), with the output for that cell displayed immediately below it; this allows the user to follow the “story” of the code and understand each piece much more easily.\n",
    "\n",
    "*Note: Both code and markdown text can be edited in the notebook; if you make any changes be sure to __Save__. You can also run the code in a given cell by clicking inside of it and pressing the __Run__ button (or hitting Shift + Enter). The code in the selected cell will run and the cursor will jump to the next cell, so you can easily run through your code by pressing the __Run__ button multiple times.*\n",
    "\n",
    "### Load Packages and Data\n",
    "\n",
    "Before running any code, we have to initialize the required packages in this notebook session's virtual memory. To do that, we use the ```import``` command."
   ]
  },
  {
   "cell_type": "code",
   "execution_count": 13,
   "metadata": {},
   "outputs": [],
   "source": [
    "import pandas as pd\n",
    "import geopandas as gpd\n",
    "from keplergl import KeplerGl"
   ]
  },
  {
   "cell_type": "markdown",
   "metadata": {},
   "source": [
    "The CSV file with the tract-to-tract flows that we created in Lab 2 is called \"Mode_Flows.csv\". The next bit of code loads that csv as a dataframe and displays the first 5 rows. Notice that the first row in a Python dataframe (or series) is \"0\", not \"1\"."
   ]
  },
  {
   "cell_type": "code",
   "execution_count": 14,
   "metadata": {},
   "outputs": [
    {
     "data": {
      "text/html": [
       "<div>\n",
       "<style scoped>\n",
       "    .dataframe tbody tr th:only-of-type {\n",
       "        vertical-align: middle;\n",
       "    }\n",
       "\n",
       "    .dataframe tbody tr th {\n",
       "        vertical-align: top;\n",
       "    }\n",
       "\n",
       "    .dataframe thead th {\n",
       "        text-align: right;\n",
       "    }\n",
       "</style>\n",
       "<table border=\"1\" class=\"dataframe\">\n",
       "  <thead>\n",
       "    <tr style=\"text-align: right;\">\n",
       "      <th></th>\n",
       "      <th>TRIP_ID</th>\n",
       "      <th>origTR</th>\n",
       "      <th>destTR</th>\n",
       "      <th>h_lat</th>\n",
       "      <th>h_long</th>\n",
       "      <th>w_lat</th>\n",
       "      <th>w_long</th>\n",
       "      <th>JTOT</th>\n",
       "      <th>JTOTAUT</th>\n",
       "      <th>JTOTTRN</th>\n",
       "      <th>...</th>\n",
       "      <th>JTOTAUT_R</th>\n",
       "      <th>N_TRAN2_R</th>\n",
       "      <th>N_BIKE2_R</th>\n",
       "      <th>N_WALK2_R</th>\n",
       "      <th>JTOTWFH_R</th>\n",
       "      <th>ADD_TRAN</th>\n",
       "      <th>ADD_BIKE</th>\n",
       "      <th>ADD_WALK</th>\n",
       "      <th>DIST</th>\n",
       "      <th>DIST_EUC</th>\n",
       "    </tr>\n",
       "  </thead>\n",
       "  <tbody>\n",
       "    <tr>\n",
       "      <th>129940</th>\n",
       "      <td>17031330100, 17031839100</td>\n",
       "      <td>17031330100</td>\n",
       "      <td>17031839100</td>\n",
       "      <td>41.85926</td>\n",
       "      <td>-87.61729</td>\n",
       "      <td>41.88103</td>\n",
       "      <td>-87.63275</td>\n",
       "      <td>2213</td>\n",
       "      <td>1070.30800</td>\n",
       "      <td>559.80770</td>\n",
       "      <td>...</td>\n",
       "      <td>0.119505</td>\n",
       "      <td>0.302385</td>\n",
       "      <td>1.029552</td>\n",
       "      <td>NaN</td>\n",
       "      <td>0.735144</td>\n",
       "      <td>91.03076</td>\n",
       "      <td>53.92086</td>\n",
       "      <td>0.0000</td>\n",
       "      <td>3.800000</td>\n",
       "      <td>2.787876</td>\n",
       "    </tr>\n",
       "    <tr>\n",
       "      <th>288779</th>\n",
       "      <td>17031809300, 17031808702</td>\n",
       "      <td>17031809300</td>\n",
       "      <td>17031808702</td>\n",
       "      <td>42.05795</td>\n",
       "      <td>-87.68647</td>\n",
       "      <td>42.05478</td>\n",
       "      <td>-87.67560</td>\n",
       "      <td>203</td>\n",
       "      <td>63.37374</td>\n",
       "      <td>32.38819</td>\n",
       "      <td>...</td>\n",
       "      <td>0.217555</td>\n",
       "      <td>0.253850</td>\n",
       "      <td>1.217923</td>\n",
       "      <td>0.257086</td>\n",
       "      <td>1.366590</td>\n",
       "      <td>6.26104</td>\n",
       "      <td>52.48731</td>\n",
       "      <td>165.3901</td>\n",
       "      <td>1.383333</td>\n",
       "      <td>1.014005</td>\n",
       "    </tr>\n",
       "    <tr>\n",
       "      <th>137446</th>\n",
       "      <td>17031410500, 17031836200</td>\n",
       "      <td>17031410500</td>\n",
       "      <td>17031836200</td>\n",
       "      <td>41.79783</td>\n",
       "      <td>-87.60375</td>\n",
       "      <td>41.79047</td>\n",
       "      <td>-87.60128</td>\n",
       "      <td>178</td>\n",
       "      <td>66.14286</td>\n",
       "      <td>49.14286</td>\n",
       "      <td>...</td>\n",
       "      <td>0.247851</td>\n",
       "      <td>0.325096</td>\n",
       "      <td>0.864150</td>\n",
       "      <td>0.542782</td>\n",
       "      <td>1.717436</td>\n",
       "      <td>11.21672</td>\n",
       "      <td>40.50756</td>\n",
       "      <td>144.5772</td>\n",
       "      <td>1.050000</td>\n",
       "      <td>0.893249</td>\n",
       "    </tr>\n",
       "    <tr>\n",
       "      <th>138446</th>\n",
       "      <td>17031410900, 17031836200</td>\n",
       "      <td>17031410900</td>\n",
       "      <td>17031836200</td>\n",
       "      <td>41.79720</td>\n",
       "      <td>-87.58236</td>\n",
       "      <td>41.79047</td>\n",
       "      <td>-87.60128</td>\n",
       "      <td>299</td>\n",
       "      <td>110.62820</td>\n",
       "      <td>88.28811</td>\n",
       "      <td>...</td>\n",
       "      <td>0.171605</td>\n",
       "      <td>0.317728</td>\n",
       "      <td>1.027358</td>\n",
       "      <td>0.473313</td>\n",
       "      <td>0.851220</td>\n",
       "      <td>20.49406</td>\n",
       "      <td>42.32249</td>\n",
       "      <td>188.4114</td>\n",
       "      <td>2.300000</td>\n",
       "      <td>1.788373</td>\n",
       "    </tr>\n",
       "    <tr>\n",
       "      <th>138723</th>\n",
       "      <td>17031411000, 17031836200</td>\n",
       "      <td>17031411000</td>\n",
       "      <td>17031836200</td>\n",
       "      <td>41.79051</td>\n",
       "      <td>-87.58314</td>\n",
       "      <td>41.79047</td>\n",
       "      <td>-87.60128</td>\n",
       "      <td>278</td>\n",
       "      <td>89.71514</td>\n",
       "      <td>99.40505</td>\n",
       "      <td>...</td>\n",
       "      <td>0.304019</td>\n",
       "      <td>0.221380</td>\n",
       "      <td>1.341913</td>\n",
       "      <td>0.484079</td>\n",
       "      <td>1.182419</td>\n",
       "      <td>12.19467</td>\n",
       "      <td>37.48069</td>\n",
       "      <td>142.2438</td>\n",
       "      <td>1.800000</td>\n",
       "      <td>1.554379</td>\n",
       "    </tr>\n",
       "  </tbody>\n",
       "</table>\n",
       "<p>5 rows × 26 columns</p>\n",
       "</div>"
      ],
      "text/plain": [
       "                         TRIP_ID       origTR       destTR     h_lat  \\\n",
       "129940  17031330100, 17031839100  17031330100  17031839100  41.85926   \n",
       "288779  17031809300, 17031808702  17031809300  17031808702  42.05795   \n",
       "137446  17031410500, 17031836200  17031410500  17031836200  41.79783   \n",
       "138446  17031410900, 17031836200  17031410900  17031836200  41.79720   \n",
       "138723  17031411000, 17031836200  17031411000  17031836200  41.79051   \n",
       "\n",
       "          h_long     w_lat    w_long  JTOT     JTOTAUT    JTOTTRN  ...  \\\n",
       "129940 -87.61729  41.88103 -87.63275  2213  1070.30800  559.80770  ...   \n",
       "288779 -87.68647  42.05478 -87.67560   203    63.37374   32.38819  ...   \n",
       "137446 -87.60375  41.79047 -87.60128   178    66.14286   49.14286  ...   \n",
       "138446 -87.58236  41.79047 -87.60128   299   110.62820   88.28811  ...   \n",
       "138723 -87.58314  41.79047 -87.60128   278    89.71514   99.40505  ...   \n",
       "\n",
       "        JTOTAUT_R  N_TRAN2_R  N_BIKE2_R  N_WALK2_R  JTOTWFH_R  ADD_TRAN  \\\n",
       "129940   0.119505   0.302385   1.029552        NaN   0.735144  91.03076   \n",
       "288779   0.217555   0.253850   1.217923   0.257086   1.366590   6.26104   \n",
       "137446   0.247851   0.325096   0.864150   0.542782   1.717436  11.21672   \n",
       "138446   0.171605   0.317728   1.027358   0.473313   0.851220  20.49406   \n",
       "138723   0.304019   0.221380   1.341913   0.484079   1.182419  12.19467   \n",
       "\n",
       "        ADD_BIKE  ADD_WALK      DIST  DIST_EUC  \n",
       "129940  53.92086    0.0000  3.800000  2.787876  \n",
       "288779  52.48731  165.3901  1.383333  1.014005  \n",
       "137446  40.50756  144.5772  1.050000  0.893249  \n",
       "138446  42.32249  188.4114  2.300000  1.788373  \n",
       "138723  37.48069  142.2438  1.800000  1.554379  \n",
       "\n",
       "[5 rows x 26 columns]"
      ]
     },
     "execution_count": 14,
     "metadata": {},
     "output_type": "execute_result"
    }
   ],
   "source": [
    "#Read CSV\n",
    "df = pd.read_csv('Mode_Flows.csv', index_col=0)\n",
    "# N_BIKE2 column has to be sorted to be recognized as \"float\" by Kepler\n",
    "df.sort_values('N_BIKE2', ascending=False, inplace=True)\n",
    "df.head()"
   ]
  },
  {
   "cell_type": "markdown",
   "metadata": {},
   "source": [
    "### Initializing Kepler in Python\n",
    "The Python version of Kepler is much more stable than the web browser. In order to use it, we first create a blank map with a given size named \"kepler_map\"."
   ]
  },
  {
   "cell_type": "code",
   "execution_count": 15,
   "metadata": {},
   "outputs": [
    {
     "name": "stdout",
     "output_type": "stream",
     "text": [
      "User Guide: https://docs.kepler.gl/docs/keplergl-jupyter\n"
     ]
    }
   ],
   "source": [
    "#Load a blank map\n",
    "kepler_map = KeplerGl(height=800)"
   ]
  },
  {
   "cell_type": "markdown",
   "metadata": {},
   "source": [
    "Now we add the Mode_Flows dataframe (which we named \"df\") data to the map and initilize a Graphical User Interface (GUI) directly in the notebook."
   ]
  },
  {
   "cell_type": "code",
   "execution_count": null,
   "metadata": {},
   "outputs": [],
   "source": [
    "#Add data - you can add multiple files to the map in this way\n",
    "kepler_map.add_data(data=df, name=\"Mode Flows\")\n",
    "# testract = gpd.read_file('Cook_Tracts_TransitWGS.geojson')\n",
    "# kepler_map.add_data(data=testract, name=\"Tracts\")"
   ]
  },
  {
   "cell_type": "code",
   "execution_count": null,
   "metadata": {
    "scrolled": false
   },
   "outputs": [],
   "source": [
    "#Initialize map\n",
    "kepler_map"
   ]
  },
  {
   "cell_type": "markdown",
   "metadata": {},
   "source": [
    "Clicking on the small arrow on the left allows you to manipulate the layers that you loaded. Now we can display the flows with origins and destinations in different colors. We can also export the map (with loaded data) to a separate html file to manipulate diretcly in a web browser."
   ]
  },
  {
   "cell_type": "code",
   "execution_count": null,
   "metadata": {},
   "outputs": [],
   "source": [
    "# Export to html object that opens in your web browser.\n",
    "kepler_map.save_to_html()"
   ]
  },
  {
   "cell_type": "code",
   "execution_count": null,
   "metadata": {},
   "outputs": [],
   "source": []
  }
 ],
 "metadata": {
  "kernelspec": {
   "display_name": "Python 3",
   "language": "python",
   "name": "python3"
  },
  "language_info": {
   "codemirror_mode": {
    "name": "ipython",
    "version": 3
   },
   "file_extension": ".py",
   "mimetype": "text/x-python",
   "name": "python",
   "nbconvert_exporter": "python",
   "pygments_lexer": "ipython3",
   "version": "3.9.2"
  }
 },
 "nbformat": 4,
 "nbformat_minor": 2
}
